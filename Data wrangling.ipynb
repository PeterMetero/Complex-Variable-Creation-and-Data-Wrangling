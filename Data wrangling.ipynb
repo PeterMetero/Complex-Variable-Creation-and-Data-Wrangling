{
 "cells": [
  {
   "cell_type": "code",
   "execution_count": 1,
   "id": "5c1d96f5-45c9-4402-b2bc-1172e23a1634",
   "metadata": {},
   "outputs": [],
   "source": [
    "import pandas as pd\n",
    "import numpy as np"
   ]
  },
  {
   "cell_type": "code",
   "execution_count": 3,
   "id": "62375fea-b3b2-4664-8938-1d0c68b7771d",
   "metadata": {},
   "outputs": [],
   "source": [
    "# Create a sample dataset\n",
    "data = {\n",
    "    'transaction_id': [1, 2, 3, 4, 5],\n",
    "    'product_id': ['A', 'B', 'A', 'C', 'B'],\n",
    "    'quantity': [2, 1, 3, 2, 1],\n",
    "    'price_per_unit': [10.0, 20.0, 15.0, 10.0, 25.0],\n",
    "    'date': ['2022-01-01', '2022-01-02', '2022-01-03', '2022-01-04', '2022-01-05']\n",
    "}\n",
    "\n",
    "df = pd.DataFrame(data)"
   ]
  },
  {
   "cell_type": "code",
   "execution_count": 4,
   "id": "75bdc9af-f532-44a3-9e1a-407232cb7dcb",
   "metadata": {},
   "outputs": [],
   "source": [
    "# Data cleaning: Convert 'date' column to datetime format\n",
    "df['date'] = pd.to_datetime(df['date'])\n",
    "\n",
    "# Data transformation: Create a new column 'total_price' by multiplying 'quantity' and 'price_per_unit'\n",
    "df['total_price'] = df['quantity'] * df['price_per_unit']"
   ]
  },
  {
   "cell_type": "code",
   "execution_count": 5,
   "id": "ee38ad1e-91a2-4242-89a7-fcde59f20fc7",
   "metadata": {},
   "outputs": [],
   "source": [
    "# Data aggregation: Calculate total sales per product\n",
    "product_sales = df.groupby('product_id')['total_price'].sum().reset_index()\n",
    "product_sales.columns = ['product_id', 'total_sales']"
   ]
  },
  {
   "cell_type": "code",
   "execution_count": 6,
   "id": "1aa585d0-7c73-4f20-a67d-e7393ab8d3b2",
   "metadata": {},
   "outputs": [],
   "source": [
    "# Merge the aggregated data back to the original dataframe\n",
    "df = df.merge(product_sales, on='product_id', how='left')"
   ]
  },
  {
   "cell_type": "code",
   "execution_count": 7,
   "id": "fc63bc79-2784-4ae2-b697-fb0847503ad3",
   "metadata": {},
   "outputs": [],
   "source": [
    "# Data transformation: Calculate the percentage of total sales contributed by each transaction\n",
    "df['sales_contribution'] = df['total_price'] / df['total_sales'] * 100"
   ]
  },
  {
   "cell_type": "code",
   "execution_count": 8,
   "id": "f0eae1f0-78d4-449a-85c7-1218a3c3c384",
   "metadata": {},
   "outputs": [
    {
     "data": {
      "text/html": [
       "<div>\n",
       "<style scoped>\n",
       "    .dataframe tbody tr th:only-of-type {\n",
       "        vertical-align: middle;\n",
       "    }\n",
       "\n",
       "    .dataframe tbody tr th {\n",
       "        vertical-align: top;\n",
       "    }\n",
       "\n",
       "    .dataframe thead th {\n",
       "        text-align: right;\n",
       "    }\n",
       "</style>\n",
       "<table border=\"1\" class=\"dataframe\">\n",
       "  <thead>\n",
       "    <tr style=\"text-align: right;\">\n",
       "      <th></th>\n",
       "      <th>transaction_id</th>\n",
       "      <th>product_id</th>\n",
       "      <th>quantity</th>\n",
       "      <th>price_per_unit</th>\n",
       "      <th>date</th>\n",
       "      <th>total_price</th>\n",
       "      <th>total_sales</th>\n",
       "      <th>sales_contribution</th>\n",
       "    </tr>\n",
       "  </thead>\n",
       "  <tbody>\n",
       "    <tr>\n",
       "      <th>0</th>\n",
       "      <td>1</td>\n",
       "      <td>A</td>\n",
       "      <td>2</td>\n",
       "      <td>10.0</td>\n",
       "      <td>2022-01-01</td>\n",
       "      <td>20.0</td>\n",
       "      <td>65.0</td>\n",
       "      <td>30.769231</td>\n",
       "    </tr>\n",
       "    <tr>\n",
       "      <th>1</th>\n",
       "      <td>2</td>\n",
       "      <td>B</td>\n",
       "      <td>1</td>\n",
       "      <td>20.0</td>\n",
       "      <td>2022-01-02</td>\n",
       "      <td>20.0</td>\n",
       "      <td>45.0</td>\n",
       "      <td>44.444444</td>\n",
       "    </tr>\n",
       "    <tr>\n",
       "      <th>2</th>\n",
       "      <td>3</td>\n",
       "      <td>A</td>\n",
       "      <td>3</td>\n",
       "      <td>15.0</td>\n",
       "      <td>2022-01-03</td>\n",
       "      <td>45.0</td>\n",
       "      <td>65.0</td>\n",
       "      <td>69.230769</td>\n",
       "    </tr>\n",
       "    <tr>\n",
       "      <th>3</th>\n",
       "      <td>4</td>\n",
       "      <td>C</td>\n",
       "      <td>2</td>\n",
       "      <td>10.0</td>\n",
       "      <td>2022-01-04</td>\n",
       "      <td>20.0</td>\n",
       "      <td>20.0</td>\n",
       "      <td>100.000000</td>\n",
       "    </tr>\n",
       "    <tr>\n",
       "      <th>4</th>\n",
       "      <td>5</td>\n",
       "      <td>B</td>\n",
       "      <td>1</td>\n",
       "      <td>25.0</td>\n",
       "      <td>2022-01-05</td>\n",
       "      <td>25.0</td>\n",
       "      <td>45.0</td>\n",
       "      <td>55.555556</td>\n",
       "    </tr>\n",
       "  </tbody>\n",
       "</table>\n",
       "</div>"
      ],
      "text/plain": [
       "   transaction_id product_id  quantity  price_per_unit       date  \\\n",
       "0               1          A         2            10.0 2022-01-01   \n",
       "1               2          B         1            20.0 2022-01-02   \n",
       "2               3          A         3            15.0 2022-01-03   \n",
       "3               4          C         2            10.0 2022-01-04   \n",
       "4               5          B         1            25.0 2022-01-05   \n",
       "\n",
       "   total_price  total_sales  sales_contribution  \n",
       "0         20.0         65.0           30.769231  \n",
       "1         20.0         45.0           44.444444  \n",
       "2         45.0         65.0           69.230769  \n",
       "3         20.0         20.0          100.000000  \n",
       "4         25.0         45.0           55.555556  "
      ]
     },
     "execution_count": 8,
     "metadata": {},
     "output_type": "execute_result"
    }
   ],
   "source": [
    "# Print the final dataframe\n",
    "df"
   ]
  },
  {
   "cell_type": "code",
   "execution_count": null,
   "id": "320b904d-6573-43cf-9499-15d8f286fdaf",
   "metadata": {},
   "outputs": [],
   "source": []
  },
  {
   "cell_type": "code",
   "execution_count": null,
   "id": "b02ccba7-08c5-4002-a8d6-4d84f77d5da8",
   "metadata": {},
   "outputs": [],
   "source": []
  },
  {
   "cell_type": "code",
   "execution_count": null,
   "id": "f9b3dd96-9529-4f32-82fb-94e1bd7a7464",
   "metadata": {},
   "outputs": [],
   "source": []
  }
 ],
 "metadata": {
  "kernelspec": {
   "display_name": "Python 3 (ipykernel)",
   "language": "python",
   "name": "python3"
  },
  "language_info": {
   "codemirror_mode": {
    "name": "ipython",
    "version": 3
   },
   "file_extension": ".py",
   "mimetype": "text/x-python",
   "name": "python",
   "nbconvert_exporter": "python",
   "pygments_lexer": "ipython3",
   "version": "3.11.7"
  }
 },
 "nbformat": 4,
 "nbformat_minor": 5
}
